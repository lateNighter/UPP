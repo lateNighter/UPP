{
  "nbformat": 4,
  "nbformat_minor": 0,
  "metadata": {
    "colab": {
      "provenance": []
    },
    "kernelspec": {
      "name": "python3",
      "display_name": "Python 3"
    },
    "language_info": {
      "name": "python"
    }
  },
  "cells": [
    {
      "cell_type": "markdown",
      "source": [
        "#Model"
      ],
      "metadata": {
        "id": "tPLs5rEq8A4q"
      }
    },
    {
      "cell_type": "code",
      "execution_count": 72,
      "metadata": {
        "id": "7hlvcDzJram_"
      },
      "outputs": [],
      "source": [
        "import numpy as np\n",
        "import pandas as pd\n",
        "import time\n",
        "import math\n",
        "\n",
        "import matplotlib.pyplot as plt\n",
        "from sklearn.model_selection import train_test_split\n",
        "from sklearn.model_selection import KFold\n",
        "from sklearn import metrics\n",
        "from sklearn.tree import DecisionTreeRegressor\n",
        "from sklearn.ensemble import RandomForestRegressor\n",
        "\n",
        "import warnings\n",
        "warnings.filterwarnings('ignore')\n",
        "np.random.seed()\n",
        "\n",
        "pRand = 5\n",
        "plt.style.use('seaborn-whitegrid')\n",
        "plt.style.use('seaborn-deep')"
      ]
    },
    {
      "cell_type": "code",
      "source": [
        "path = \"https://raw.github.com/lateNighter/UPP/main/final.csv\"\n",
        "data = pd.read_csv(path)"
      ],
      "metadata": {
        "id": "Q31-VpTDrT6N"
      },
      "execution_count": 73,
      "outputs": []
    },
    {
      "cell_type": "code",
      "source": [
        "data"
      ],
      "metadata": {
        "colab": {
          "base_uri": "https://localhost:8080/",
          "height": 424
        },
        "id": "I2wPMEGTGh_p",
        "outputId": "1d9650a6-1b0b-4397-eb32-0fa1168354e5"
      },
      "execution_count": 74,
      "outputs": [
        {
          "output_type": "execute_result",
          "data": {
            "text/plain": [
              "     Year  Rooms  TotalArea  LivingArea     Floor     Price\n",
              "0    2023      2       40.0        27.0  1.000000   8015408\n",
              "1    2023      2       37.5        24.8  0.294118   7657921\n",
              "2    2023      2       40.0        27.0  0.823529   7951971\n",
              "3    2024      2       35.0        25.0  0.176471   5602638\n",
              "4    2024      3       62.0        35.0  0.823529   8940577\n",
              "..    ...    ...        ...         ...       ...       ...\n",
              "825  2024      2       37.1        19.1  0.823529   6424050\n",
              "826  2024      2       36.6        23.3  0.411765   6791130\n",
              "827  2024      2       50.0        23.0  0.764706   8817178\n",
              "828  2024      2       36.1        20.3  0.529412   6472188\n",
              "829  2024      3       59.0        38.0  0.529412  13986790\n",
              "\n",
              "[830 rows x 6 columns]"
            ],
            "text/html": [
              "\n",
              "  <div id=\"df-c31f9e37-8997-4d09-b1a1-bbbfda7a1f6a\">\n",
              "    <div class=\"colab-df-container\">\n",
              "      <div>\n",
              "<style scoped>\n",
              "    .dataframe tbody tr th:only-of-type {\n",
              "        vertical-align: middle;\n",
              "    }\n",
              "\n",
              "    .dataframe tbody tr th {\n",
              "        vertical-align: top;\n",
              "    }\n",
              "\n",
              "    .dataframe thead th {\n",
              "        text-align: right;\n",
              "    }\n",
              "</style>\n",
              "<table border=\"1\" class=\"dataframe\">\n",
              "  <thead>\n",
              "    <tr style=\"text-align: right;\">\n",
              "      <th></th>\n",
              "      <th>Year</th>\n",
              "      <th>Rooms</th>\n",
              "      <th>TotalArea</th>\n",
              "      <th>LivingArea</th>\n",
              "      <th>Floor</th>\n",
              "      <th>Price</th>\n",
              "    </tr>\n",
              "  </thead>\n",
              "  <tbody>\n",
              "    <tr>\n",
              "      <th>0</th>\n",
              "      <td>2023</td>\n",
              "      <td>2</td>\n",
              "      <td>40.0</td>\n",
              "      <td>27.0</td>\n",
              "      <td>1.000000</td>\n",
              "      <td>8015408</td>\n",
              "    </tr>\n",
              "    <tr>\n",
              "      <th>1</th>\n",
              "      <td>2023</td>\n",
              "      <td>2</td>\n",
              "      <td>37.5</td>\n",
              "      <td>24.8</td>\n",
              "      <td>0.294118</td>\n",
              "      <td>7657921</td>\n",
              "    </tr>\n",
              "    <tr>\n",
              "      <th>2</th>\n",
              "      <td>2023</td>\n",
              "      <td>2</td>\n",
              "      <td>40.0</td>\n",
              "      <td>27.0</td>\n",
              "      <td>0.823529</td>\n",
              "      <td>7951971</td>\n",
              "    </tr>\n",
              "    <tr>\n",
              "      <th>3</th>\n",
              "      <td>2024</td>\n",
              "      <td>2</td>\n",
              "      <td>35.0</td>\n",
              "      <td>25.0</td>\n",
              "      <td>0.176471</td>\n",
              "      <td>5602638</td>\n",
              "    </tr>\n",
              "    <tr>\n",
              "      <th>4</th>\n",
              "      <td>2024</td>\n",
              "      <td>3</td>\n",
              "      <td>62.0</td>\n",
              "      <td>35.0</td>\n",
              "      <td>0.823529</td>\n",
              "      <td>8940577</td>\n",
              "    </tr>\n",
              "    <tr>\n",
              "      <th>...</th>\n",
              "      <td>...</td>\n",
              "      <td>...</td>\n",
              "      <td>...</td>\n",
              "      <td>...</td>\n",
              "      <td>...</td>\n",
              "      <td>...</td>\n",
              "    </tr>\n",
              "    <tr>\n",
              "      <th>825</th>\n",
              "      <td>2024</td>\n",
              "      <td>2</td>\n",
              "      <td>37.1</td>\n",
              "      <td>19.1</td>\n",
              "      <td>0.823529</td>\n",
              "      <td>6424050</td>\n",
              "    </tr>\n",
              "    <tr>\n",
              "      <th>826</th>\n",
              "      <td>2024</td>\n",
              "      <td>2</td>\n",
              "      <td>36.6</td>\n",
              "      <td>23.3</td>\n",
              "      <td>0.411765</td>\n",
              "      <td>6791130</td>\n",
              "    </tr>\n",
              "    <tr>\n",
              "      <th>827</th>\n",
              "      <td>2024</td>\n",
              "      <td>2</td>\n",
              "      <td>50.0</td>\n",
              "      <td>23.0</td>\n",
              "      <td>0.764706</td>\n",
              "      <td>8817178</td>\n",
              "    </tr>\n",
              "    <tr>\n",
              "      <th>828</th>\n",
              "      <td>2024</td>\n",
              "      <td>2</td>\n",
              "      <td>36.1</td>\n",
              "      <td>20.3</td>\n",
              "      <td>0.529412</td>\n",
              "      <td>6472188</td>\n",
              "    </tr>\n",
              "    <tr>\n",
              "      <th>829</th>\n",
              "      <td>2024</td>\n",
              "      <td>3</td>\n",
              "      <td>59.0</td>\n",
              "      <td>38.0</td>\n",
              "      <td>0.529412</td>\n",
              "      <td>13986790</td>\n",
              "    </tr>\n",
              "  </tbody>\n",
              "</table>\n",
              "<p>830 rows × 6 columns</p>\n",
              "</div>\n",
              "      <button class=\"colab-df-convert\" onclick=\"convertToInteractive('df-c31f9e37-8997-4d09-b1a1-bbbfda7a1f6a')\"\n",
              "              title=\"Convert this dataframe to an interactive table.\"\n",
              "              style=\"display:none;\">\n",
              "        \n",
              "  <svg xmlns=\"http://www.w3.org/2000/svg\" height=\"24px\"viewBox=\"0 0 24 24\"\n",
              "       width=\"24px\">\n",
              "    <path d=\"M0 0h24v24H0V0z\" fill=\"none\"/>\n",
              "    <path d=\"M18.56 5.44l.94 2.06.94-2.06 2.06-.94-2.06-.94-.94-2.06-.94 2.06-2.06.94zm-11 1L8.5 8.5l.94-2.06 2.06-.94-2.06-.94L8.5 2.5l-.94 2.06-2.06.94zm10 10l.94 2.06.94-2.06 2.06-.94-2.06-.94-.94-2.06-.94 2.06-2.06.94z\"/><path d=\"M17.41 7.96l-1.37-1.37c-.4-.4-.92-.59-1.43-.59-.52 0-1.04.2-1.43.59L10.3 9.45l-7.72 7.72c-.78.78-.78 2.05 0 2.83L4 21.41c.39.39.9.59 1.41.59.51 0 1.02-.2 1.41-.59l7.78-7.78 2.81-2.81c.8-.78.8-2.07 0-2.86zM5.41 20L4 18.59l7.72-7.72 1.47 1.35L5.41 20z\"/>\n",
              "  </svg>\n",
              "      </button>\n",
              "      \n",
              "  <style>\n",
              "    .colab-df-container {\n",
              "      display:flex;\n",
              "      flex-wrap:wrap;\n",
              "      gap: 12px;\n",
              "    }\n",
              "\n",
              "    .colab-df-convert {\n",
              "      background-color: #E8F0FE;\n",
              "      border: none;\n",
              "      border-radius: 50%;\n",
              "      cursor: pointer;\n",
              "      display: none;\n",
              "      fill: #1967D2;\n",
              "      height: 32px;\n",
              "      padding: 0 0 0 0;\n",
              "      width: 32px;\n",
              "    }\n",
              "\n",
              "    .colab-df-convert:hover {\n",
              "      background-color: #E2EBFA;\n",
              "      box-shadow: 0px 1px 2px rgba(60, 64, 67, 0.3), 0px 1px 3px 1px rgba(60, 64, 67, 0.15);\n",
              "      fill: #174EA6;\n",
              "    }\n",
              "\n",
              "    [theme=dark] .colab-df-convert {\n",
              "      background-color: #3B4455;\n",
              "      fill: #D2E3FC;\n",
              "    }\n",
              "\n",
              "    [theme=dark] .colab-df-convert:hover {\n",
              "      background-color: #434B5C;\n",
              "      box-shadow: 0px 1px 3px 1px rgba(0, 0, 0, 0.15);\n",
              "      filter: drop-shadow(0px 1px 2px rgba(0, 0, 0, 0.3));\n",
              "      fill: #FFFFFF;\n",
              "    }\n",
              "  </style>\n",
              "\n",
              "      <script>\n",
              "        const buttonEl =\n",
              "          document.querySelector('#df-c31f9e37-8997-4d09-b1a1-bbbfda7a1f6a button.colab-df-convert');\n",
              "        buttonEl.style.display =\n",
              "          google.colab.kernel.accessAllowed ? 'block' : 'none';\n",
              "\n",
              "        async function convertToInteractive(key) {\n",
              "          const element = document.querySelector('#df-c31f9e37-8997-4d09-b1a1-bbbfda7a1f6a');\n",
              "          const dataTable =\n",
              "            await google.colab.kernel.invokeFunction('convertToInteractive',\n",
              "                                                     [key], {});\n",
              "          if (!dataTable) return;\n",
              "\n",
              "          const docLinkHtml = 'Like what you see? Visit the ' +\n",
              "            '<a target=\"_blank\" href=https://colab.research.google.com/notebooks/data_table.ipynb>data table notebook</a>'\n",
              "            + ' to learn more about interactive tables.';\n",
              "          element.innerHTML = '';\n",
              "          dataTable['output_type'] = 'display_data';\n",
              "          await google.colab.output.renderOutput(dataTable, element);\n",
              "          const docLink = document.createElement('div');\n",
              "          docLink.innerHTML = docLinkHtml;\n",
              "          element.appendChild(docLink);\n",
              "        }\n",
              "      </script>\n",
              "    </div>\n",
              "  </div>\n",
              "  "
            ]
          },
          "metadata": {},
          "execution_count": 74
        }
      ]
    },
    {
      "cell_type": "code",
      "execution_count": 75,
      "metadata": {
        "id": "_TnJrzKCXRcY"
      },
      "outputs": [],
      "source": [
        "cv = KFold(n_splits=5,shuffle=True,random_state=pRand)"
      ]
    },
    {
      "cell_type": "code",
      "source": [
        "data['Price']=data['Price']/1000000"
      ],
      "metadata": {
        "id": "go1X6gsNv9wa"
      },
      "execution_count": 76,
      "outputs": []
    },
    {
      "cell_type": "code",
      "source": [
        "print(data.shape)\n",
        "data.dropna(inplace=True)\n",
        "x=data.drop(columns=['Price'])\n",
        "y=data['Price']\n",
        "x=(x-np.mean(x)) / np.std(x)\n",
        "x_train,x_test,y_train,y_test=train_test_split(x,y,test_size=0.3)\n",
        "print(data.shape)"
      ],
      "metadata": {
        "colab": {
          "base_uri": "https://localhost:8080/"
        },
        "id": "cTQr36F1_uG4",
        "outputId": "71d02aca-e77b-4853-a08b-90130cd24a9e"
      },
      "execution_count": 77,
      "outputs": [
        {
          "output_type": "stream",
          "name": "stdout",
          "text": [
            "(830, 6)\n",
            "(830, 6)\n"
          ]
        }
      ]
    },
    {
      "cell_type": "code",
      "source": [
        "print('\\nDecision Tree Regression\\n')\n",
        "\n",
        "depths = range(1,31)\n",
        "criterions = ['mse','mae']\n",
        "\n",
        "bestMAE = np.inf #set infinite as starting value\n",
        "bestDepth = 0\n",
        "bestCriterion = ''\n",
        "maeR2Scores = []\n",
        "mseR2Scores = []\n",
        "maeMAEs = []\n",
        "mseMAEs = []\n",
        "\n",
        "for criterion in criterions:\n",
        "    \n",
        "    for depth in depths:\n",
        "        \n",
        "        DTregressor = DecisionTreeRegressor(random_state = pRand, max_depth=depth, criterion=criterion)\n",
        "        _ = DTregressor.fit(x_train, y_train)\n",
        "        y_pred = DTregressor.predict(x_test)\n",
        "        \n",
        "        if(criterion == 'mae'):\n",
        "            maeR2Scores.append(DTregressor.score(x_train,y_train))\n",
        "            maeMAEs.append(metrics.mean_absolute_error(y_test,y_pred))\n",
        "            \n",
        "        if(criterion == 'mse'):\n",
        "            mseR2Scores.append(DTregressor.score(x_train,y_train))\n",
        "            mseMAEs.append(metrics.mean_absolute_error(y_test,y_pred))\n",
        "            \n",
        "        if(metrics.mean_absolute_error(y_test,y_pred)<bestMAE):\n",
        "            bestMAE = metrics.mean_absolute_error(y_test,y_pred)\n",
        "            bestDepth = depth\n",
        "            bestCriterion = criterion\n"
      ],
      "metadata": {
        "colab": {
          "base_uri": "https://localhost:8080/"
        },
        "id": "ya6bVe8a8pWV",
        "outputId": "7fbc99ab-3667-4b92-b070-38c653bfb127"
      },
      "execution_count": 78,
      "outputs": [
        {
          "output_type": "stream",
          "name": "stdout",
          "text": [
            "\n",
            "Decision Tree Regression\n",
            "\n"
          ]
        }
      ]
    },
    {
      "cell_type": "code",
      "execution_count": 79,
      "metadata": {
        "colab": {
          "base_uri": "https://localhost:8080/"
        },
        "id": "99yfej0lXRcd",
        "outputId": "3f64cc46-452b-43ab-e0d2-1aca2a44a96a"
      },
      "outputs": [
        {
          "output_type": "stream",
          "name": "stdout",
          "text": [
            "\n",
            "Random Forest Regression\n",
            "\n"
          ]
        }
      ],
      "source": [
        "print('\\nRandom Forest Regression\\n')\n",
        "\n",
        "n_estimators = [10,50,100]\n",
        "\n",
        "\n",
        "bestMAE = np.inf #set infinite as starting value\n",
        "bestN_estimators = 0 #number of trees\n",
        "R2Scores = []\n",
        "MAEs = []\n",
        "\n",
        "for n_estimator in n_estimators:\n",
        "            \n",
        "    RFregressor = RandomForestRegressor(random_state = pRand, max_depth=bestDepth, criterion=bestCriterion, n_estimators=n_estimator)\n",
        "    _ = RFregressor.fit(x_train, y_train)\n",
        "    y_pred = RFregressor.predict(x_test)\n",
        "        \n",
        "    R2Scores.append(RFregressor.score(x_train,y_train))\n",
        "    MAEs.append(metrics.mean_absolute_error(y_test,y_pred))\n",
        "            \n",
        "    if(metrics.mean_absolute_error(y_test,y_pred)<bestMAE):\n",
        "        bestMAE = metrics.mean_absolute_error(y_test,y_pred)\n",
        "        bestN_estimators = n_estimator\n",
        "           \n",
        "        "
      ]
    },
    {
      "cell_type": "code",
      "execution_count": 80,
      "metadata": {
        "colab": {
          "base_uri": "https://localhost:8080/",
          "height": 651
        },
        "id": "zLpN6gJDXRcd",
        "outputId": "4039ca63-0468-4e78-9140-f6b7462138f1"
      },
      "outputs": [
        {
          "output_type": "stream",
          "name": "stdout",
          "text": [
            "\n",
            "Best parameters for classifier:\n",
            "\n",
            "- Criterion: mae\n",
            "- Max depth: 15\n",
            "- Best number of estimators: 100\n",
            "- Mean Absolute Error of classifier with best parameters: 1\n",
            "\n",
            "10 estimators - MAE: 1\n",
            "50 estimators - MAE: 1\n",
            "100 estimators - MAE: 1\n",
            "\n",
            "\n"
          ]
        },
        {
          "output_type": "display_data",
          "data": {
            "text/plain": [
              "<Figure size 1080x432 with 1 Axes>"
            ],
            "image/png": "[encoded data removed]"
          },
          "metadata": {}
        },
        {
          "output_type": "stream",
          "name": "stdout",
          "text": [
            "model score train 0.9502299158265244\n",
            "model score test 0.7461624677130253\n"
          ]
        }
      ],
      "source": [
        "print('\\nBest parameters for classifier:\\n')\n",
        "print('- Criterion: %s' %bestCriterion)\n",
        "print('- Max depth: %s' %bestDepth)\n",
        "print('- Best number of estimators: %s' %bestN_estimators)\n",
        "print('- Mean Absolute Error of classifier with best parameters: %d\\n' %bestMAE)\n",
        "\n",
        "for i in range(3):\n",
        "    print('%d estimators - MAE: ' %n_estimators[i] + '%d' %MAEs[i])\n",
        "\n",
        "print('\\n')\n",
        "\n",
        "RFregressor = RandomForestRegressor(random_state = pRand, max_depth=bestDepth, criterion=bestCriterion, n_estimators=bestN_estimators)\n",
        "_ = RFregressor.fit(x_train, y_train)\n",
        "y_pred = RFregressor.predict(x_test)\n",
        "\n",
        "res = pd.DataFrame({'Actual': y_test, 'Predicted': y_pred.flatten()})\n",
        "df1 = res.head(25)\n",
        "df1.plot(kind='bar',figsize=(15,6))\n",
        "plt.title('Comparison of Actual and Predicted values', fontsize=10)\n",
        "plt.show()\n",
        "\n",
        "print('model score train', RFregressor.score(x_train,y_train))\n",
        "print('model score test', RFregressor.score(x_test,y_test))"
      ]
    },
    {
      "cell_type": "code",
      "source": [
        "import pickle\n",
        "import numpy as np\n",
        "import pandas as pd\n",
        "\n",
        "import warnings\n",
        "warnings.filterwarnings('ignore')\n",
        "import requests\n",
        "\n",
        "class Model:\n",
        "  def __init__(self, model):\n",
        "    self.model = model\n",
        "\n",
        "  def predict(self, sample):\n",
        "    '''\n",
        "    Parameters:\n",
        "    sample (DataFrame): Year: int; Rooms: int; TotalArea: float; LivingArea: float; \n",
        "    Floor(actual floor/total floors): float.\n",
        "  \n",
        "    Returns:\n",
        "    float: Predicted price\n",
        "    '''\n",
        "    sample=sample.to_numpy().reshape(1,-1)\n",
        "    sample=(sample-np.mean(sample)) / np.std(sample)\n",
        "    res = (self.model.predict(sample)*1000000)[0]\n",
        "    return res\n",
        "\n",
        "model=Model(RFregressor)\n",
        "pickle.dump(model, open('model.pkl', 'wb'))"
      ],
      "metadata": {
        "id": "vThbOIsAQxW0"
      },
      "execution_count": 123,
      "outputs": []
    },
    {
      "cell_type": "markdown",
      "source": [
        "# Backend"
      ],
      "metadata": {
        "id": "n1HQbDwL5KOB"
      }
    },
    {
      "cell_type": "code",
      "source": [
        "path = \"https://raw.github.com/lateNighter/UPP/main/model.pkl\"\n",
        "response = requests.get(path, allow_redirects=True)\n",
        "\n",
        "pickled_model\n",
        "if(response.status_code==200):\n",
        "    pickled_model = pickle.load(open('model.pkl', 'rb'))\n",
        "\n",
        "df=pd.DataFrame([[2019,2,40.0,27.0,1]])\n",
        "pickled_model.predict(df)"
      ],
      "metadata": {
        "colab": {
          "base_uri": "https://localhost:8080/"
        },
        "id": "SRhcDhQOpX4t",
        "outputId": "f3fd8487-2c0b-4883-cafa-5aca50b5cac3"
      },
      "execution_count": 124,
      "outputs": [
        {
          "output_type": "execute_result",
          "data": {
            "text/plain": [
              "6898521.94"
            ]
          },
          "metadata": {},
          "execution_count": 124
        }
      ]
    }
  ]
}